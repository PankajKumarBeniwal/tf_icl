{
 "cells": [
  {
   "cell_type": "code",
   "execution_count": 1,
   "metadata": {},
   "outputs": [
    {
     "name": "stdout",
     "output_type": "stream",
     "text": [
      "2.0.0\n"
     ]
    }
   ],
   "source": [
    "import tensorflow as tf\n",
    "print(tf.__version__)"
   ]
  },
  {
   "cell_type": "markdown",
   "metadata": {},
   "source": [
    "# The Sequential model API"
   ]
  },
  {
   "cell_type": "markdown",
   "metadata": {},
   "source": [
    " ## Coding tutorials\n",
    " #### [1. Building a Sequential model](#coding_tutorial_1)\n",
    " #### [2. Convolutional and pooling layers](#coding_tutorial_2)\n",
    " #### [3. The compile method](#coding_tutorial_3)\n",
    " #### [4. The fit method](#coding_tutorial_4)\n",
    " #### [5. The evaluate and predict methods](#coding_tutorial_5)"
   ]
  },
  {
   "cell_type": "markdown",
   "metadata": {},
   "source": [
    "***\n",
    "<a id=\"coding_tutorial_1\"></a>\n",
    "## Building a Sequential model"
   ]
  },
  {
   "cell_type": "code",
   "execution_count": 2,
   "metadata": {},
   "outputs": [],
   "source": [
    "from tensorflow.keras.models import Sequential\n",
    "from tensorflow.keras.layers import Dense, Flatten, Softmax"
   ]
  },
  {
   "cell_type": "markdown",
   "metadata": {},
   "source": [
    "#### Build a feedforward neural network model"
   ]
  },
  {
   "cell_type": "code",
   "execution_count": 15,
   "metadata": {},
   "outputs": [],
   "source": [
    "# Build the Sequential feedforward neural network model\n",
    "model = Sequential([\n",
    "    Flatten(input_shape=(28, 28)),\n",
    "    Dense(16, activation='relu'),\n",
    "    Dense(16, activation='relu'),\n",
    "    Dense(10, activation='softmax')\n",
    "])"
   ]
  },
  {
   "cell_type": "code",
   "execution_count": 16,
   "metadata": {},
   "outputs": [
    {
     "data": {
      "text/plain": [
       "[<tf.Variable 'dense_9/kernel:0' shape=(784, 16) dtype=float32, numpy=\n",
       " array([[-0.08573445, -0.03389461, -0.05374118, ...,  0.05569819,\n",
       "          0.0154201 ,  0.04324755],\n",
       "        [-0.05316591,  0.03038831,  0.06427631, ...,  0.07932457,\n",
       "         -0.07151429, -0.07434814],\n",
       "        [-0.02881632,  0.08635427, -0.06654939, ..., -0.022834  ,\n",
       "         -0.01875135,  0.01105182],\n",
       "        ...,\n",
       "        [ 0.00394029, -0.07708603, -0.02766629, ..., -0.07714416,\n",
       "          0.0269258 ,  0.03347386],\n",
       "        [ 0.08546549, -0.03902896,  0.0702775 , ...,  0.07654224,\n",
       "          0.07338114, -0.00756703],\n",
       "        [-0.0617578 , -0.01408046,  0.05908595, ..., -0.00638023,\n",
       "         -0.02424943,  0.04251327]], dtype=float32)>,\n",
       " <tf.Variable 'dense_9/bias:0' shape=(16,) dtype=float32, numpy=\n",
       " array([0., 0., 0., 0., 0., 0., 0., 0., 0., 0., 0., 0., 0., 0., 0., 0.],\n",
       "       dtype=float32)>,\n",
       " <tf.Variable 'dense_10/kernel:0' shape=(16, 16) dtype=float32, numpy=\n",
       " array([[ 0.01528421,  0.12272593,  0.0619601 ,  0.23048148, -0.15294367,\n",
       "          0.28592584, -0.05127782, -0.25976205, -0.29349524,  0.26680043,\n",
       "         -0.19616418,  0.14729312, -0.01783875, -0.11388421,  0.15723404,\n",
       "         -0.07821095],\n",
       "        [ 0.24542639,  0.36077747,  0.11799172,  0.28277037, -0.02190489,\n",
       "          0.3515968 ,  0.01745594,  0.24149808, -0.01261789,  0.15627334,\n",
       "         -0.20355955,  0.08495942, -0.35776037, -0.12909967, -0.09330541,\n",
       "          0.23054644],\n",
       "        [ 0.41134414,  0.14267871,  0.11462352,  0.09960034, -0.4053469 ,\n",
       "          0.07860312,  0.38496104,  0.38857195,  0.4044989 , -0.1645967 ,\n",
       "         -0.24289292,  0.30619708,  0.31393024,  0.42421648,  0.35785893,\n",
       "          0.17210266],\n",
       "        [ 0.33016422,  0.2149212 ,  0.37134674, -0.21104927, -0.18853508,\n",
       "          0.03854957,  0.06370524, -0.01457229,  0.193203  ,  0.1092672 ,\n",
       "         -0.3427242 ,  0.37784353, -0.19285725,  0.31698963, -0.3247934 ,\n",
       "          0.17554936],\n",
       "        [-0.30480313,  0.28379992,  0.01995224, -0.20331095,  0.32119605,\n",
       "         -0.33980238, -0.05703273, -0.34140742,  0.11512223, -0.20140672,\n",
       "         -0.03046447,  0.07227555,  0.30868307,  0.18044421, -0.3768709 ,\n",
       "         -0.3811083 ],\n",
       "        [ 0.1525813 ,  0.10995415,  0.29598704, -0.28795218, -0.31253302,\n",
       "          0.1760256 ,  0.16958311, -0.08087736,  0.06407216, -0.16179511,\n",
       "         -0.41600338,  0.2578154 , -0.2967227 ,  0.0403544 , -0.17336193,\n",
       "          0.07445082],\n",
       "        [-0.22224103, -0.10623682, -0.02436104,  0.40349886, -0.17018458,\n",
       "         -0.3342172 ,  0.18725666,  0.20337054, -0.06575948, -0.41255015,\n",
       "         -0.38057157, -0.28199297, -0.18517642,  0.08079967, -0.31348228,\n",
       "         -0.03294262],\n",
       "        [ 0.4077187 ,  0.2607397 , -0.08892956, -0.12501258,  0.4171867 ,\n",
       "         -0.2476396 , -0.23623693,  0.2207832 , -0.14839748,  0.2840866 ,\n",
       "          0.15467992, -0.28961918,  0.36403075, -0.23194914,  0.34390268,\n",
       "          0.38637552],\n",
       "        [ 0.40011665,  0.19035217,  0.01342851, -0.07126909, -0.36852747,\n",
       "         -0.1986739 , -0.0624733 , -0.3281227 ,  0.13628885, -0.10197371,\n",
       "         -0.37676796,  0.29151258, -0.33485872, -0.27793372,  0.2798039 ,\n",
       "          0.18794474],\n",
       "        [ 0.1620684 ,  0.39741054, -0.15851358, -0.12097397,  0.30731568,\n",
       "          0.12949756, -0.04900628, -0.33528796, -0.19067273,  0.1970317 ,\n",
       "          0.35688338,  0.16883865, -0.41255975, -0.22692628,  0.4053181 ,\n",
       "          0.13485965],\n",
       "        [-0.20081052,  0.15104273,  0.3324649 ,  0.3171806 ,  0.14356533,\n",
       "         -0.00900084,  0.31594822, -0.35409063,  0.06339252,  0.24424985,\n",
       "         -0.33624458,  0.16019258, -0.22554165, -0.12935972,  0.12736204,\n",
       "         -0.1388146 ],\n",
       "        [ 0.33246478,  0.33843324, -0.21137881, -0.03274944, -0.2951954 ,\n",
       "          0.43230274, -0.04530302,  0.20744678,  0.33500603, -0.29200915,\n",
       "         -0.12577602, -0.21756908,  0.08096215, -0.00297108,  0.2216179 ,\n",
       "         -0.03934628],\n",
       "        [-0.19663288,  0.26960602, -0.39193872,  0.3004376 , -0.33399254,\n",
       "          0.27530757, -0.08561623,  0.23048666,  0.15801403, -0.17559293,\n",
       "          0.28173402,  0.3195972 ,  0.17713323,  0.22639522,  0.22775963,\n",
       "          0.05328014],\n",
       "        [-0.40402845, -0.05947742,  0.2766393 , -0.06207615,  0.36663803,\n",
       "         -0.39210927,  0.22711924, -0.30617982,  0.3589541 ,  0.01384065,\n",
       "         -0.09610006,  0.18367925, -0.0411959 , -0.29274428,  0.00552034,\n",
       "         -0.09575039],\n",
       "        [-0.07908753,  0.14280137, -0.23852263, -0.07207146,  0.30554298,\n",
       "          0.09421197, -0.19396138,  0.19789115,  0.3968787 , -0.01555306,\n",
       "         -0.23385626, -0.00501695,  0.27136013,  0.21625498, -0.04963923,\n",
       "         -0.03854647],\n",
       "        [-0.02661154, -0.02430499, -0.33618954, -0.01841667,  0.30729654,\n",
       "          0.173089  ,  0.28025523, -0.34985128, -0.21569479,  0.29002282,\n",
       "         -0.42976514,  0.14671418, -0.00513208,  0.25713393,  0.12834176,\n",
       "          0.05730993]], dtype=float32)>,\n",
       " <tf.Variable 'dense_10/bias:0' shape=(16,) dtype=float32, numpy=\n",
       " array([0., 0., 0., 0., 0., 0., 0., 0., 0., 0., 0., 0., 0., 0., 0., 0.],\n",
       "       dtype=float32)>,\n",
       " <tf.Variable 'dense_11/kernel:0' shape=(16, 10) dtype=float32, numpy=\n",
       " array([[ 0.4468665 ,  0.02301431,  0.28205812,  0.4179855 , -0.07262626,\n",
       "         -0.4237015 , -0.00491264, -0.32901877,  0.33549374,  0.31368792],\n",
       "        [ 0.25534248,  0.15391004, -0.39651167, -0.05245936,  0.1940372 ,\n",
       "         -0.46386063, -0.30483592, -0.4790852 ,  0.1213066 ,  0.22542977],\n",
       "        [-0.39354208,  0.32348776,  0.06937099,  0.16787302,  0.17241174,\n",
       "         -0.23971727, -0.4706217 ,  0.20969802, -0.15530148, -0.37480226],\n",
       "        [-0.41072804, -0.12658873, -0.45369196, -0.17650878,  0.24181688,\n",
       "          0.4327649 ,  0.34432077, -0.39283895,  0.05507159, -0.2530074 ],\n",
       "        [ 0.15291888,  0.42352182, -0.00858423, -0.10288784,  0.17200518,\n",
       "         -0.30392092, -0.06398454, -0.24826689,  0.29810518,  0.30008543],\n",
       "        [-0.06638676,  0.36700624,  0.32024246,  0.4019472 ,  0.31432092,\n",
       "          0.44245964, -0.00240746,  0.43265438, -0.46781668,  0.2407152 ],\n",
       "        [-0.02126104,  0.25907326, -0.18665832,  0.03447741,  0.29384798,\n",
       "          0.09530783, -0.30354947,  0.36517775, -0.46699193,  0.1808843 ],\n",
       "        [ 0.2175631 , -0.28471518,  0.41933334,  0.28627545, -0.08284658,\n",
       "         -0.30728954, -0.30200446,  0.34476012, -0.1810664 , -0.40363917],\n",
       "        [ 0.34112078,  0.03417504,  0.4384194 , -0.1565263 ,  0.28132534,\n",
       "          0.13443321, -0.14735523,  0.30942315,  0.19306093,  0.04049623],\n",
       "        [ 0.05790859,  0.28311604, -0.31277555,  0.19081175,  0.17819732,\n",
       "         -0.24803267, -0.0571166 , -0.28253013,  0.47228062,  0.01717404],\n",
       "        [ 0.03524959,  0.20335317, -0.06313172,  0.20538473, -0.11873123,\n",
       "         -0.45982003, -0.18960124, -0.14788494, -0.03864169,  0.25373012],\n",
       "        [-0.2566737 , -0.07670808, -0.18276137,  0.19865525,  0.2466402 ,\n",
       "         -0.3042754 , -0.20561177, -0.47240418,  0.06026798,  0.07335776],\n",
       "        [ 0.14123446,  0.01627657, -0.42323008, -0.1270101 ,  0.4762249 ,\n",
       "         -0.15403831, -0.10571897,  0.37926352,  0.39995605,  0.39126337],\n",
       "        [-0.3337949 , -0.4483891 , -0.3446511 ,  0.07427073, -0.21969822,\n",
       "         -0.37589067, -0.22432685,  0.4732108 ,  0.03844208,  0.13381737],\n",
       "        [ 0.35341525,  0.452532  , -0.33866507, -0.30888635, -0.18251753,\n",
       "         -0.42316467,  0.22791582, -0.03249094,  0.27048498, -0.04123276],\n",
       "        [ 0.10222042,  0.07225746, -0.3681461 ,  0.0747025 , -0.43010786,\n",
       "         -0.43832466,  0.45066613, -0.28473762, -0.1865375 , -0.41645283]],\n",
       "       dtype=float32)>,\n",
       " <tf.Variable 'dense_11/bias:0' shape=(10,) dtype=float32, numpy=array([0., 0., 0., 0., 0., 0., 0., 0., 0., 0.], dtype=float32)>]"
      ]
     },
     "execution_count": 16,
     "metadata": {},
     "output_type": "execute_result"
    }
   ],
   "source": [
    "model.weights"
   ]
  },
  {
   "cell_type": "code",
   "execution_count": 17,
   "metadata": {
    "scrolled": false
   },
   "outputs": [
    {
     "name": "stdout",
     "output_type": "stream",
     "text": [
      "Model: \"sequential_3\"\n",
      "_________________________________________________________________\n",
      "Layer (type)                 Output Shape              Param #   \n",
      "=================================================================\n",
      "flatten_2 (Flatten)          (None, 784)               0         \n",
      "_________________________________________________________________\n",
      "dense_9 (Dense)              (None, 16)                12560     \n",
      "_________________________________________________________________\n",
      "dense_10 (Dense)             (None, 16)                272       \n",
      "_________________________________________________________________\n",
      "dense_11 (Dense)             (None, 10)                170       \n",
      "=================================================================\n",
      "Total params: 13,002\n",
      "Trainable params: 13,002\n",
      "Non-trainable params: 0\n",
      "_________________________________________________________________\n"
     ]
    }
   ],
   "source": [
    "# Print the model summary\n",
    "model.summary()"
   ]
  },
  {
   "cell_type": "code",
   "execution_count": 19,
   "metadata": {},
   "outputs": [],
   "source": [
    "# Build the Sequential feedforward neural network model\n",
    "model = Sequential([\n",
    "    Flatten(input_shape=(28, 28), name='layer_1_flattened'),\n",
    "    Dense(16, activation='relu', name='layer_2'),\n",
    "    Dense(16, activation='relu'),\n",
    "    Dense(10),\n",
    "    Softmax()\n",
    "])"
   ]
  },
  {
   "cell_type": "code",
   "execution_count": 20,
   "metadata": {},
   "outputs": [
    {
     "name": "stdout",
     "output_type": "stream",
     "text": [
      "Model: \"sequential_4\"\n",
      "_________________________________________________________________\n",
      "Layer (type)                 Output Shape              Param #   \n",
      "=================================================================\n",
      "layer_1_flattened (Flatten)  (None, 784)               0         \n",
      "_________________________________________________________________\n",
      "layer_2 (Dense)              (None, 16)                12560     \n",
      "_________________________________________________________________\n",
      "dense_12 (Dense)             (None, 16)                272       \n",
      "_________________________________________________________________\n",
      "dense_13 (Dense)             (None, 10)                170       \n",
      "_________________________________________________________________\n",
      "softmax_1 (Softmax)          (None, 10)                0         \n",
      "=================================================================\n",
      "Total params: 13,002\n",
      "Trainable params: 13,002\n",
      "Non-trainable params: 0\n",
      "_________________________________________________________________\n"
     ]
    }
   ],
   "source": [
    "model.summary()"
   ]
  },
  {
   "cell_type": "markdown",
   "metadata": {},
   "source": [
    "***\n",
    "<a id=\"coding_tutorial_2\"></a>\n",
    "## Convolutional and pooling layers"
   ]
  },
  {
   "cell_type": "code",
   "execution_count": 21,
   "metadata": {},
   "outputs": [],
   "source": [
    "from tensorflow.keras.models import Sequential\n",
    "from tensorflow.keras.layers import Dense, Flatten, Conv2D, MaxPooling2D"
   ]
  },
  {
   "cell_type": "markdown",
   "metadata": {},
   "source": [
    "#### Build a convolutional neural network model"
   ]
  },
  {
   "cell_type": "code",
   "execution_count": 22,
   "metadata": {},
   "outputs": [],
   "source": [
    "# Build the Sequential convolutional neural network model\n",
    "model = Sequential([\n",
    "    Conv2D(64, (3,3), activation='relu', input_shape=(28,28,1)),\n",
    "    MaxPooling2D((3, 3)),\n",
    "    Flatten(),\n",
    "    Dense(10, activation='softmax')\n",
    "])\n"
   ]
  },
  {
   "cell_type": "code",
   "execution_count": 23,
   "metadata": {
    "scrolled": true
   },
   "outputs": [
    {
     "name": "stdout",
     "output_type": "stream",
     "text": [
      "Model: \"sequential_5\"\n",
      "_________________________________________________________________\n",
      "Layer (type)                 Output Shape              Param #   \n",
      "=================================================================\n",
      "conv2d (Conv2D)              (None, 26, 26, 64)        640       \n",
      "_________________________________________________________________\n",
      "max_pooling2d (MaxPooling2D) (None, 8, 8, 64)          0         \n",
      "_________________________________________________________________\n",
      "flatten_3 (Flatten)          (None, 4096)              0         \n",
      "_________________________________________________________________\n",
      "dense_14 (Dense)             (None, 10)                40970     \n",
      "=================================================================\n",
      "Total params: 41,610\n",
      "Trainable params: 41,610\n",
      "Non-trainable params: 0\n",
      "_________________________________________________________________\n"
     ]
    }
   ],
   "source": [
    "# Print the model summary\n",
    "\n",
    "model.summary()"
   ]
  },
  {
   "cell_type": "code",
   "execution_count": 24,
   "metadata": {},
   "outputs": [],
   "source": [
    "# Build the Sequential convolutional neural network model\n",
    "model = Sequential([\n",
    "    Conv2D(64, (3,3), padding='SAME', activation='relu', input_shape=(28,28,1)),\n",
    "    MaxPooling2D((3, 3)),\n",
    "    Flatten(),\n",
    "    Dense(10, activation='softmax')\n",
    "])\n"
   ]
  },
  {
   "cell_type": "code",
   "execution_count": 25,
   "metadata": {
    "scrolled": true
   },
   "outputs": [
    {
     "name": "stdout",
     "output_type": "stream",
     "text": [
      "Model: \"sequential_6\"\n",
      "_________________________________________________________________\n",
      "Layer (type)                 Output Shape              Param #   \n",
      "=================================================================\n",
      "conv2d_1 (Conv2D)            (None, 28, 28, 64)        640       \n",
      "_________________________________________________________________\n",
      "max_pooling2d_1 (MaxPooling2 (None, 9, 9, 64)          0         \n",
      "_________________________________________________________________\n",
      "flatten_4 (Flatten)          (None, 5184)              0         \n",
      "_________________________________________________________________\n",
      "dense_15 (Dense)             (None, 10)                51850     \n",
      "=================================================================\n",
      "Total params: 52,490\n",
      "Trainable params: 52,490\n",
      "Non-trainable params: 0\n",
      "_________________________________________________________________\n"
     ]
    }
   ],
   "source": [
    "model.summary()"
   ]
  },
  {
   "cell_type": "code",
   "execution_count": 27,
   "metadata": {},
   "outputs": [],
   "source": [
    "# Build the Sequential convolutional neural network model\n",
    "model = Sequential([\n",
    "    Conv2D(64, (3,3), padding='SAME', strides=2, activation='relu', input_shape=(28,28,1)),\n",
    "    MaxPooling2D((3, 3), strides=2),\n",
    "    Flatten(),\n",
    "    Dense(10, activation='softmax')\n",
    "])\n"
   ]
  },
  {
   "cell_type": "code",
   "execution_count": 28,
   "metadata": {
    "scrolled": true
   },
   "outputs": [
    {
     "name": "stdout",
     "output_type": "stream",
     "text": [
      "Model: \"sequential_7\"\n",
      "_________________________________________________________________\n",
      "Layer (type)                 Output Shape              Param #   \n",
      "=================================================================\n",
      "conv2d_2 (Conv2D)            (None, 14, 14, 64)        640       \n",
      "_________________________________________________________________\n",
      "max_pooling2d_2 (MaxPooling2 (None, 6, 6, 64)          0         \n",
      "_________________________________________________________________\n",
      "flatten_5 (Flatten)          (None, 2304)              0         \n",
      "_________________________________________________________________\n",
      "dense_16 (Dense)             (None, 10)                23050     \n",
      "=================================================================\n",
      "Total params: 23,690\n",
      "Trainable params: 23,690\n",
      "Non-trainable params: 0\n",
      "_________________________________________________________________\n"
     ]
    }
   ],
   "source": [
    "model.summary()"
   ]
  },
  {
   "cell_type": "code",
   "execution_count": 42,
   "metadata": {},
   "outputs": [],
   "source": [
    "# Build the Sequential convolutional neural network model\n",
    "model = Sequential([\n",
    "    Conv2D(64, (3,3), strides=2, activation='relu', input_shape=(28,28,1)),\n",
    "    MaxPooling2D((3, 3)),\n",
    "    Flatten(),\n",
    "    Dense(10, activation='softmax')\n",
    "])\n"
   ]
  },
  {
   "cell_type": "code",
   "execution_count": 43,
   "metadata": {},
   "outputs": [
    {
     "name": "stdout",
     "output_type": "stream",
     "text": [
      "Model: \"sequential_9\"\n",
      "_________________________________________________________________\n",
      "Layer (type)                 Output Shape              Param #   \n",
      "=================================================================\n",
      "conv2d_4 (Conv2D)            (None, 13, 13, 64)        640       \n",
      "_________________________________________________________________\n",
      "max_pooling2d_4 (MaxPooling2 (None, 4, 4, 64)          0         \n",
      "_________________________________________________________________\n",
      "flatten_7 (Flatten)          (None, 1024)              0         \n",
      "_________________________________________________________________\n",
      "dense_18 (Dense)             (None, 10)                10250     \n",
      "=================================================================\n",
      "Total params: 10,890\n",
      "Trainable params: 10,890\n",
      "Non-trainable params: 0\n",
      "_________________________________________________________________\n"
     ]
    }
   ],
   "source": [
    "model.summary()"
   ]
  },
  {
   "cell_type": "markdown",
   "metadata": {},
   "source": [
    "***\n",
    "<a id=\"coding_tutorial_3\"></a>\n",
    "## The compile method"
   ]
  },
  {
   "cell_type": "markdown",
   "metadata": {},
   "source": [
    "#### Compile the model"
   ]
  },
  {
   "cell_type": "code",
   "execution_count": 46,
   "metadata": {},
   "outputs": [],
   "source": [
    "# Define the model optimizer, loss function and metrics\n",
    "opt = tf.keras.optimizers.Adam(learning_rate=0.005)\n",
    "acc = tf.keras.metrics.SparseCategoricalAccuracy()\n",
    "mae = tf.keras.metrics.MeanAbsoluteError()\n",
    "\n",
    "model.compile(optimizer=opt,\n",
    "             loss='sparse_categorical_crossentropy',\n",
    "             metrics = [acc, mae])"
   ]
  },
  {
   "cell_type": "code",
   "execution_count": 47,
   "metadata": {},
   "outputs": [
    {
     "name": "stdout",
     "output_type": "stream",
     "text": [
      "sparse_categorical_crossentropy\n",
      "<tensorflow.python.keras.optimizer_v2.adam.Adam object at 0x7ff7106dc240>\n",
      "[<tensorflow.python.keras.metrics.SparseCategoricalAccuracy object at 0x7ff6f067a8d0>, <tensorflow.python.keras.metrics.MeanAbsoluteError object at 0x7ff6f02a8358>]\n",
      "<tf.Variable 'learning_rate:0' shape=() dtype=float32, numpy=0.005>\n"
     ]
    }
   ],
   "source": [
    "# Print the resulting model attributes\n",
    "\n",
    "print(model.loss)\n",
    "print(model.optimizer)\n",
    "print(model.metrics)\n",
    "print(model.optimizer.lr)"
   ]
  },
  {
   "cell_type": "markdown",
   "metadata": {},
   "source": [
    "***\n",
    "<a id=\"coding_tutorial_4\"></a>\n",
    "## The fit method"
   ]
  },
  {
   "cell_type": "code",
   "execution_count": 41,
   "metadata": {},
   "outputs": [],
   "source": [
    "from tensorflow.keras.preprocessing import image\n",
    "import matplotlib.pyplot as plt\n",
    "import numpy as np\n",
    "import pandas as pd"
   ]
  },
  {
   "cell_type": "markdown",
   "metadata": {},
   "source": [
    "#### Load the data"
   ]
  },
  {
   "cell_type": "code",
   "execution_count": 48,
   "metadata": {},
   "outputs": [
    {
     "name": "stdout",
     "output_type": "stream",
     "text": [
      "Downloading data from https://storage.googleapis.com/tensorflow/tf-keras-datasets/train-labels-idx1-ubyte.gz\n",
      "32768/29515 [=================================] - 0s 0us/step\n",
      "Downloading data from https://storage.googleapis.com/tensorflow/tf-keras-datasets/train-images-idx3-ubyte.gz\n",
      "26427392/26421880 [==============================] - 0s 0us/step\n",
      "Downloading data from https://storage.googleapis.com/tensorflow/tf-keras-datasets/t10k-labels-idx1-ubyte.gz\n",
      "8192/5148 [===============================================] - 0s 0us/step\n",
      "Downloading data from https://storage.googleapis.com/tensorflow/tf-keras-datasets/t10k-images-idx3-ubyte.gz\n",
      "4423680/4422102 [==============================] - 0s 0us/step\n"
     ]
    }
   ],
   "source": [
    "# Load the Fashion-MNIST dataset\n",
    "\n",
    "fashion_mnist_data = tf.keras.datasets.fashion_mnist\n",
    "(train_images, train_labels), (test_images, test_labels) = fashion_mnist_data.load_data()"
   ]
  },
  {
   "cell_type": "code",
   "execution_count": 49,
   "metadata": {},
   "outputs": [
    {
     "name": "stdout",
     "output_type": "stream",
     "text": [
      "(60000, 28, 28)\n"
     ]
    }
   ],
   "source": [
    "# Print the shape of the training data\n",
    "\n",
    "print(train_images.shape)"
   ]
  },
  {
   "cell_type": "code",
   "execution_count": 50,
   "metadata": {},
   "outputs": [],
   "source": [
    "# Define the labels\n",
    "\n",
    "labels = [\n",
    "    'T-shirt/top',\n",
    "    'Trouser',\n",
    "    'Pullover',\n",
    "    'Dress',\n",
    "    'Coat',\n",
    "    'Sandal',\n",
    "    'Shirt',\n",
    "    'Sneaker',\n",
    "    'Bag',\n",
    "    'Ankle boot'\n",
    "]"
   ]
  },
  {
   "cell_type": "code",
   "execution_count": 51,
   "metadata": {},
   "outputs": [],
   "source": [
    "# Rescale the image values so that they lie in between 0 and 1.\n",
    "\n",
    "train_images = train_images/255.0\n",
    "test_images = test_images/255.0"
   ]
  },
  {
   "cell_type": "code",
   "execution_count": 54,
   "metadata": {},
   "outputs": [
    {
     "data": {
      "image/png": "[encoded data removed]",
      "text/plain": [
       "<Figure size 432x288 with 1 Axes>"
      ]
     },
     "metadata": {
      "needs_background": "light"
     },
     "output_type": "display_data"
    },
    {
     "name": "stdout",
     "output_type": "stream",
     "text": [
      "Label: Ankle boot\n"
     ]
    }
   ],
   "source": [
    "# Display one of the images\n",
    "\n",
    "i = 0\n",
    "img = train_images[i,:,:]\n",
    "plt.imshow(img)\n",
    "plt.axis('off')\n",
    "plt.show()\n",
    "print(f\"Label: {labels[train_labels[i]]}\")"
   ]
  },
  {
   "cell_type": "markdown",
   "metadata": {},
   "source": [
    "#### Fit the model"
   ]
  },
  {
   "cell_type": "code",
   "execution_count": 56,
   "metadata": {
    "scrolled": true
   },
   "outputs": [
    {
     "name": "stdout",
     "output_type": "stream",
     "text": [
      "Train on 60000 samples\n",
      "Epoch 1/10\n",
      "60000/60000 [==============================] - 38s 628us/sample - loss: 0.3574 - sparse_categorical_accuracy: 0.8708 - mean_absolute_error: 4.4200\n",
      "Epoch 2/10\n",
      "60000/60000 [==============================] - 39s 652us/sample - loss: 0.3411 - sparse_categorical_accuracy: 0.8741 - mean_absolute_error: 4.4200\n",
      "Epoch 3/10\n",
      "60000/60000 [==============================] - 40s 660us/sample - loss: 0.3258 - sparse_categorical_accuracy: 0.8801 - mean_absolute_error: 4.4200\n",
      "Epoch 4/10\n",
      "60000/60000 [==============================] - 39s 652us/sample - loss: 0.3194 - sparse_categorical_accuracy: 0.8824 - mean_absolute_error: 4.4200\n",
      "Epoch 5/10\n",
      "60000/60000 [==============================] - 38s 632us/sample - loss: 0.3119 - sparse_categorical_accuracy: 0.8861 - mean_absolute_error: 4.4200\n",
      "Epoch 6/10\n",
      "60000/60000 [==============================] - 37s 620us/sample - loss: 0.3072 - sparse_categorical_accuracy: 0.8865 - mean_absolute_error: 4.4200\n",
      "Epoch 7/10\n",
      "60000/60000 [==============================] - 39s 643us/sample - loss: 0.3004 - sparse_categorical_accuracy: 0.8879 - mean_absolute_error: 4.4200\n",
      "Epoch 8/10\n",
      "60000/60000 [==============================] - 39s 650us/sample - loss: 0.2948 - sparse_categorical_accuracy: 0.8917 - mean_absolute_error: 4.4200\n",
      "Epoch 9/10\n",
      "60000/60000 [==============================] - 39s 650us/sample - loss: 0.2909 - sparse_categorical_accuracy: 0.8928 - mean_absolute_error: 4.4200\n",
      "Epoch 10/10\n",
      "60000/60000 [==============================] - 39s 650us/sample - loss: 0.2871 - sparse_categorical_accuracy: 0.8947 - mean_absolute_error: 4.4200\n"
     ]
    }
   ],
   "source": [
    "# Fit the model\n",
    "\n",
    "history = model.fit(train_images[..., np.newaxis], train_labels, epochs=10, batch_size=64)"
   ]
  },
  {
   "cell_type": "markdown",
   "metadata": {},
   "source": [
    "#### Plot training history"
   ]
  },
  {
   "cell_type": "code",
   "execution_count": 57,
   "metadata": {},
   "outputs": [
    {
     "data": {
      "text/html": [
       "<div>\n",
       "<style scoped>\n",
       "    .dataframe tbody tr th:only-of-type {\n",
       "        vertical-align: middle;\n",
       "    }\n",
       "\n",
       "    .dataframe tbody tr th {\n",
       "        vertical-align: top;\n",
       "    }\n",
       "\n",
       "    .dataframe thead th {\n",
       "        text-align: right;\n",
       "    }\n",
       "</style>\n",
       "<table border=\"1\" class=\"dataframe\">\n",
       "  <thead>\n",
       "    <tr style=\"text-align: right;\">\n",
       "      <th></th>\n",
       "      <th>loss</th>\n",
       "      <th>sparse_categorical_accuracy</th>\n",
       "      <th>mean_absolute_error</th>\n",
       "    </tr>\n",
       "  </thead>\n",
       "  <tbody>\n",
       "    <tr>\n",
       "      <th>0</th>\n",
       "      <td>0.357395</td>\n",
       "      <td>0.870750</td>\n",
       "      <td>4.419999</td>\n",
       "    </tr>\n",
       "    <tr>\n",
       "      <th>1</th>\n",
       "      <td>0.341084</td>\n",
       "      <td>0.874100</td>\n",
       "      <td>4.420002</td>\n",
       "    </tr>\n",
       "    <tr>\n",
       "      <th>2</th>\n",
       "      <td>0.325803</td>\n",
       "      <td>0.880067</td>\n",
       "      <td>4.419999</td>\n",
       "    </tr>\n",
       "    <tr>\n",
       "      <th>3</th>\n",
       "      <td>0.319382</td>\n",
       "      <td>0.882383</td>\n",
       "      <td>4.420002</td>\n",
       "    </tr>\n",
       "    <tr>\n",
       "      <th>4</th>\n",
       "      <td>0.311901</td>\n",
       "      <td>0.886133</td>\n",
       "      <td>4.420001</td>\n",
       "    </tr>\n",
       "  </tbody>\n",
       "</table>\n",
       "</div>"
      ],
      "text/plain": [
       "       loss  sparse_categorical_accuracy  mean_absolute_error\n",
       "0  0.357395                     0.870750             4.419999\n",
       "1  0.341084                     0.874100             4.420002\n",
       "2  0.325803                     0.880067             4.419999\n",
       "3  0.319382                     0.882383             4.420002\n",
       "4  0.311901                     0.886133             4.420001"
      ]
     },
     "execution_count": 57,
     "metadata": {},
     "output_type": "execute_result"
    }
   ],
   "source": [
    "# Load the history into a pandas Dataframe\n",
    "\n",
    "df = pd.DataFrame(history.history)\n",
    "df.head()"
   ]
  },
  {
   "cell_type": "code",
   "execution_count": 59,
   "metadata": {},
   "outputs": [
    {
     "data": {
      "image/png": "[encoded data removed]",
      "text/plain": [
       "<Figure size 432x288 with 1 Axes>"
      ]
     },
     "metadata": {
      "needs_background": "light"
     },
     "output_type": "display_data"
    }
   ],
   "source": [
    "# Make a plot for the loss\n",
    "\n",
    "loss_plot = df.plot(y='loss', title = \"Loss vs Epochs\", legend=False)\n",
    "loss_plot.set(xlabel=\"Epochs\", ylabel=\"Loss\")\n",
    "plt.show()"
   ]
  },
  {
   "cell_type": "code",
   "execution_count": 61,
   "metadata": {},
   "outputs": [
    {
     "data": {
      "image/png": "[encoded data removed]",
      "text/plain": [
       "<Figure size 432x288 with 1 Axes>"
      ]
     },
     "metadata": {
      "needs_background": "light"
     },
     "output_type": "display_data"
    }
   ],
   "source": [
    "# Make a plot for the accuracy\n",
    "\n",
    "loss_plot = df.plot(y='sparse_categorical_accuracy', title = \"Loss vs Epochs\", legend=False)\n",
    "loss_plot.set(xlabel=\"Epochs\", ylabel=\"Accuracy\")\n",
    "plt.show()"
   ]
  },
  {
   "cell_type": "code",
   "execution_count": 62,
   "metadata": {},
   "outputs": [
    {
     "data": {
      "image/png": "[encoded data removed]",
      "text/plain": [
       "<Figure size 432x288 with 1 Axes>"
      ]
     },
     "metadata": {
      "needs_background": "light"
     },
     "output_type": "display_data"
    }
   ],
   "source": [
    "# Make a plot for the additional metric\n",
    "\n",
    "loss_plot = df.plot(y='mean_absolute_error', title = \"Loss vs Epochs\", legend=False)\n",
    "loss_plot.set(xlabel=\"Epochs\", ylabel=\"MAE\")\n",
    "plt.show()"
   ]
  },
  {
   "cell_type": "markdown",
   "metadata": {},
   "source": [
    "***\n",
    "<a id=\"coding_tutorial_5\"></a>\n",
    "## The evaluate and predict methods"
   ]
  },
  {
   "cell_type": "code",
   "execution_count": 63,
   "metadata": {},
   "outputs": [],
   "source": [
    "import matplotlib.pyplot as plt\n",
    "import numpy as np"
   ]
  },
  {
   "cell_type": "markdown",
   "metadata": {},
   "source": [
    "#### Evaluate the model on the test set"
   ]
  },
  {
   "cell_type": "code",
   "execution_count": 65,
   "metadata": {},
   "outputs": [
    {
     "name": "stdout",
     "output_type": "stream",
     "text": [
      "10000/1 - 3s - loss: 0.2081 - sparse_categorical_accuracy: 0.8731 - mean_absolute_error: 4.4200\n"
     ]
    }
   ],
   "source": [
    "# Evaluate the model\n",
    "\n",
    "loss, accuracy, mae = model.evaluate(test_images[...,np.newaxis], test_labels, verbose=2)"
   ]
  },
  {
   "cell_type": "markdown",
   "metadata": {},
   "source": [
    "#### Make predictions from the model"
   ]
  },
  {
   "cell_type": "code",
   "execution_count": 66,
   "metadata": {},
   "outputs": [
    {
     "data": {
      "image/png": "[encoded data removed]",
      "text/plain": [
       "<Figure size 432x288 with 1 Axes>"
      ]
     },
     "metadata": {
      "needs_background": "light"
     },
     "output_type": "display_data"
    },
    {
     "name": "stdout",
     "output_type": "stream",
     "text": [
      "Label: Sneaker\n"
     ]
    }
   ],
   "source": [
    "# Choose a random test image\n",
    "\n",
    "random_inx = np.random.choice(test_images.shape[0])\n",
    "\n",
    "test_image = test_images[random_inx]\n",
    "plt.imshow(test_image)\n",
    "plt.show()\n",
    "print(f\"Label: {labels[test_labels[random_inx]]}\")"
   ]
  },
  {
   "cell_type": "code",
   "execution_count": 69,
   "metadata": {},
   "outputs": [
    {
     "name": "stdout",
     "output_type": "stream",
     "text": [
      "Model Prediction: Sneaker\n"
     ]
    }
   ],
   "source": [
    "# Get the model predictions\n",
    "\n",
    "prediction = model.predict(test_image[np.newaxis,...,np.newaxis])\n",
    "print(f\"Model Prediction: {labels[np.argmax(prediction)]}\")"
   ]
  }
 ],
 "metadata": {
  "kernelspec": {
   "display_name": "Python 3",
   "language": "python",
   "name": "python3"
  },
  "language_info": {
   "codemirror_mode": {
    "name": "ipython",
    "version": 3
   },
   "file_extension": ".py",
   "mimetype": "text/x-python",
   "name": "python",
   "nbconvert_exporter": "python",
   "pygments_lexer": "ipython3",
   "version": "3.7.1"
  }
 },
 "nbformat": 4,
 "nbformat_minor": 2
}
